{
  "nbformat": 4,
  "nbformat_minor": 0,
  "metadata": {
    "colab": {
      "name": "Contraseña_Grupo3_Parcial_1.ipynb",
      "provenance": [],
      "collapsed_sections": [],
      "include_colab_link": true
    },
    "kernelspec": {
      "name": "python3",
      "display_name": "Python 3"
    },
    "language_info": {
      "name": "python"
    }
  },
  "cells": [
    {
      "cell_type": "markdown",
      "metadata": {
        "id": "view-in-github",
        "colab_type": "text"
      },
      "source": [
        "<a href=\"https://colab.research.google.com/github/Adrian-ACI/Alg2_aacanacuani/blob/master/Grupo3_Parcial_1/Contrase%C3%B1a_Grupo3_Parcial_1.ipynb\" target=\"_parent\"><img src=\"https://colab.research.google.com/assets/colab-badge.svg\" alt=\"Open In Colab\"/></a>"
      ]
    },
    {
      "cell_type": "markdown",
      "metadata": {
        "id": "jPoe5PCmCJ7o"
      },
      "source": [
        "Este bloque importa algunos modulos utiles"
      ]
    },
    {
      "cell_type": "code",
      "metadata": {
        "id": "cK51hYNF7wbb"
      },
      "source": [
        "import string, time  #Importa las librerias string y time  O(1)"
      ],
      "execution_count": null,
      "outputs": []
    },
    {
      "cell_type": "markdown",
      "metadata": {
        "id": "Zg5IcXIFCfTT"
      },
      "source": [
        "Este Bloque define la contraseña y un metodo para saber si es correcta"
      ]
    },
    {
      "cell_type": "code",
      "metadata": {
        "id": "4v3bmRLb5ER3"
      },
      "source": [
        "secret_password=\"123pas\"           #Define una contraseña O(1)\n",
        "def check_password(password_to_check:str)->bool:      #Crea una funcion de adivia la contraseña\n",
        "  if password_to_check == secret_password:  #O(1)\n",
        "    return True                             #O(1) \n",
        "  return False                              #O(1)"
      ],
      "execution_count": null,
      "outputs": []
    },
    {
      "cell_type": "markdown",
      "metadata": {
        "id": "9Vd-2FsCC2dH"
      },
      "source": [
        "# Descripción\n",
        "Este bloque adivina la contraseña mediante fuerza bruta\n",
        "## Funcionamiento\n",
        "Esta función itera sobre todas las 1.757.000 combinaciones posibles"
      ]
    },
    {
      "cell_type": "code",
      "metadata": {
        "id": "2_gzheyM7MJY"
      },
      "source": [
        "def guess_password()->None:\n",
        "  letters = string.ascii_uppercase                #O(1)\n",
        "  for a in string.digits:                         #O(n)\n",
        "    for b in string.digits:                       #O(n)\n",
        "      for c in string.digits:                     #O(n)\n",
        "        for d in string.ascii_lowercase:          #O(n)\n",
        "          for e in string.ascii_lowercase:        #O(n)\n",
        "            for f in string.ascii_lowercase:      #O(n)\n",
        "              if check_password(a+b+c+d+e+f):     #O(1)\n",
        "                return"
      ],
      "execution_count": null,
      "outputs": []
    },
    {
      "cell_type": "code",
      "metadata": {
        "id": "4_wtbEKesvL1"
      },
      "source": [
        ""
      ],
      "execution_count": null,
      "outputs": []
    },
    {
      "cell_type": "markdown",
      "metadata": {
        "id": "tdrM62aTDb4N"
      },
      "source": [
        "Este bloque mide la duración del proceso"
      ]
    },
    {
      "cell_type": "code",
      "metadata": {
        "colab": {
          "base_uri": "https://localhost:8080/"
        },
        "id": "yCGjFyDr84SQ",
        "outputId": "23d6fede-92e5-47b7-972c-6f27e7684469"
      },
      "source": [
        "start_time = time.time()                          #O(1)\n",
        "guess_password()\n",
        "final_time = time.time() - start_time             #O(1)\n",
        "print(\"duración: {time}s\".format(time=final_time))#O(1)"
      ],
      "execution_count": null,
      "outputs": [
        {
          "output_type": "stream",
          "name": "stdout",
          "text": [
            "duración: 0.9515891075134277s\n"
          ]
        }
      ]
    },
    {
      "cell_type": "markdown",
      "metadata": {
        "id": "exbNTYeAmt2e"
      },
      "source": [
        "O(1)+O(1)+O(1)*1+O(1)+O(1)+O(n)[O(n)[O(n)[O(n)[O(n)[O(n)[O(n)[O(n)*O(1)]]]]]]]+O(1)+O(1)+O(1)\n"
      ]
    },
    {
      "cell_type": "markdown",
      "metadata": {
        "id": "t6xmSk_Esq-w"
      },
      "source": [
        "=O(n^7)"
      ]
    }
  ]
}