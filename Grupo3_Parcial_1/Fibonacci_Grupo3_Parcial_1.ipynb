{
  "nbformat": 4,
  "nbformat_minor": 0,
  "metadata": {
    "colab": {
      "name": "Fibonacci_Grupo3_Parcial_1.ipynb",
      "provenance": [],
      "collapsed_sections": [],
      "include_colab_link": true
    },
    "kernelspec": {
      "name": "python3",
      "display_name": "Python 3"
    },
    "language_info": {
      "name": "python"
    }
  },
  "cells": [
    {
      "cell_type": "markdown",
      "metadata": {
        "id": "view-in-github",
        "colab_type": "text"
      },
      "source": [
        "<a href=\"https://colab.research.google.com/github/Adrian-ACI/Alg2_aacanacuani/blob/master/Grupo3_Parcial_1/Fibonacci_Grupo3_Parcial_1.ipynb\" target=\"_parent\"><img src=\"https://colab.research.google.com/assets/colab-badge.svg\" alt=\"Open In Colab\"/></a>"
      ]
    },
    {
      "cell_type": "markdown",
      "metadata": {
        "id": "bBKjQh0OOKhN"
      },
      "source": [
        "Este Bloque importa modulos"
      ]
    },
    {
      "cell_type": "code",
      "metadata": {
        "id": "VDf8CD4HH4ST"
      },
      "source": [
        "import time      #Importa la libreria time  O(1)"
      ],
      "execution_count": null,
      "outputs": []
    },
    {
      "cell_type": "markdown",
      "metadata": {
        "id": "VuykG9xCOHXe"
      },
      "source": [
        "Este bloque calcula la serie Fibonacci mediante recursión "
      ]
    },
    {
      "cell_type": "code",
      "metadata": {
        "id": "5vtxTtyv9b9u"
      },
      "source": [
        "def Fibonacci_r(n:int)->int:                                  #Crea una funcion que recibe un numero entero y retorna un numero entero\n",
        "  if 0 >= n or n > 100:                                       #Comprueba que el numero sea mayor que cero y menor que cien    O(1)\n",
        "    raise ValueError(\"You must put a value between 1 to 100\") #Muestra un mensaje de error                                    O(1)\n",
        "  if n > 2:                                                   #Comprueba que el numero sea mayor que dos                      O(1)\n",
        "    return Fibonacci_r(n-1) + Fibonacci_r(n-2)                #Llama de forma recursiva al metodo Fibonacci_r                 O(1)\n",
        "  return 1                                                    #Devuelve 1 para Fibonacci_r(1) y Fibonacci_r(2)                O(1)"
      ],
      "execution_count": null,
      "outputs": []
    },
    {
      "cell_type": "markdown",
      "metadata": {
        "id": "gj8v5nhjN4FB"
      },
      "source": [
        "Este Bloque Mide el tiempo que tarda en ejecutarse"
      ]
    },
    {
      "cell_type": "code",
      "metadata": {
        "colab": {
          "base_uri": "https://localhost:8080/"
        },
        "id": "_rdZfydk_cmg",
        "outputId": "06a32ded-fca0-46d9-a52c-fa63159ba564"
      },
      "source": [
        "start_time = time.time()                                      #O(1)\n",
        "Fibonacci_r(35)                                               #O(1)\n",
        "final_time = time.time() - start_time                         #O(1)\n",
        "print(\"duración: {time}s\".format(time=final_time))            #O(1)"
      ],
      "execution_count": null,
      "outputs": [
        {
          "output_type": "stream",
          "name": "stdout",
          "text": [
            "duración: 3.7261228561401367s\n"
          ]
        }
      ]
    },
    {
      "cell_type": "markdown",
      "metadata": {
        "id": "VjfMdn2PO64T"
      },
      "source": [
        "Este bloque calcula la serie Fibonacci mediante iteracion"
      ]
    },
    {
      "cell_type": "code",
      "metadata": {
        "id": "M8qedfGhO6gu"
      },
      "source": [
        "numbers = {1: 1, 2: 1}                                        #Aqui se almacenan los valores repetidos de la serie, predefinidos para 1 y 2       O(1)\n",
        "def Fibonacci_i(n:int)->int:                                  #Crea una funcion que recibe un numero entero y retorna un numero entero           \n",
        "if 0 >= n or n > 100:                                         #Comprueba que el numero sea mayor que cero y menor que cien                        O(1)\n",
        "    raise ValueError(\"You must put a value between 1 to 100\") #Muestra un mensaje de error                                                        O(1)\n",
        "for i in range(1, n+1):                                       #Itera desde 1 hasta n                                                              O(n)\n",
        "  if not i in numbers:                                        #Reviza si un valor no se a asignado                                                O(1)\n",
        "    numbers[i] = numbers[i-1] + numbers[i-2]                  #Define el valor para numbers[i]                                                    O(i)  \n",
        "return numbers[n]                                             #Devuelve el valor de Fibonacci_i(n)                                                O(1)"
      ],
      "execution_count": null,
      "outputs": []
    },
    {
      "cell_type": "markdown",
      "metadata": {
        "id": "MK4hhxs_SvlC"
      },
      "source": [
        "Este Bloque Mide el tiempo que tarda en ejecutarse"
      ]
    },
    {
      "cell_type": "code",
      "metadata": {
        "colab": {
          "base_uri": "https://localhost:8080/"
        },
        "id": "haC39MlNRmeP",
        "outputId": "b0fec17d-8892-423f-da22-572faec5e134"
      },
      "source": [
        "start_time = time.time()                                      #O(1)\n",
        "Fibonacci_r(35)                                               #O(1)\n",
        "final_time = time.time() - start_time                         #O(1)\n",
        "print(\"duración: {time}s\".format(time=final_time))            #O(1)"
      ],
      "execution_count": null,
      "outputs": [
        {
          "output_type": "stream",
          "name": "stdout",
          "text": [
            "duración: 0.00017118453979492188s\n"
          ]
        }
      ]
    },
    {
      "cell_type": "markdown",
      "metadata": {
        "id": "bRzZLKUDtkrb"
      },
      "source": [
        "O(1)+O(1)*1+O(1)*1+O(1)+O(1)+O(1)+O(1)+O(1)+O(1)+O(1)*1+O(n)[O(1)*1+O(1)\n",
        "]"
      ]
    },
    {
      "cell_type": "markdown",
      "metadata": {
        "id": "1EcXY9t_uCfX"
      },
      "source": [
        "= O(n)"
      ]
    }
  ]
}